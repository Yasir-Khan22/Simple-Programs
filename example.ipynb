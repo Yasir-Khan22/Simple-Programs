{
 "cells": [
  {
   "source": [
    "## Program for Swapping Two Variables\n"
   ],
   "cell_type": "markdown",
   "metadata": {}
  },
  {
   "cell_type": "code",
   "execution_count": 1,
   "metadata": {},
   "outputs": [
    {
     "output_type": "stream",
     "name": "stdout",
     "text": [
      "After Swapping values of X and Y:\nValue of X is: 30\nValue of Y is: 20\n"
     ]
    }
   ],
   "source": [
    "# Here is the another method of doing this:\n",
    "\n",
    "x1 = 20\n",
    "y1 = 30\n",
    "x1, y1 = y1, x1\n",
    "\n",
    "print('After Swapping values of X and Y:')\n",
    "print('Value of X is:', x1)\n",
    "print('Value of Y is:', y1)"
   ]
  },
  {
   "cell_type": "code",
   "execution_count": 2,
   "metadata": {},
   "outputs": [
    {
     "output_type": "stream",
     "name": "stdout",
     "text": [
      "After Swapping Values of X and Y:\nx =  10\ny =  5\n"
     ]
    }
   ],
   "source": [
    "# Method Number.1\n",
    "x = 5\n",
    "y = 10\n",
    "\n",
    "temp = x # temp is taking value of x\n",
    "x = y    # x is taking value of y\n",
    "y = temp  # y is taking value of temp\n",
    "\n",
    "print(\"After Swapping Values of X and Y:\")\n",
    "print('x = ', x)\n",
    "print('y = ', y)"
   ]
  },
  {
   "cell_type": "code",
   "execution_count": null,
   "metadata": {},
   "outputs": [],
   "source": []
  }
 ],
 "metadata": {
  "kernelspec": {
   "display_name": "Python 3",
   "language": "python",
   "name": "python3"
  },
  "language_info": {
   "codemirror_mode": {
    "name": "ipython",
    "version": 3
   },
   "file_extension": ".py",
   "mimetype": "text/x-python",
   "name": "python",
   "nbconvert_exporter": "python",
   "pygments_lexer": "ipython3",
   "version": "3.8.5-final"
  }
 },
 "nbformat": 4,
 "nbformat_minor": 4
}