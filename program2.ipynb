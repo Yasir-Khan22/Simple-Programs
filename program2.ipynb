{
 "metadata": {
  "language_info": {
   "codemirror_mode": {
    "name": "ipython",
    "version": 3
   },
   "file_extension": ".py",
   "mimetype": "text/x-python",
   "name": "python",
   "nbconvert_exporter": "python",
   "pygments_lexer": "ipython3",
   "version": "3.9.2-final"
  },
  "orig_nbformat": 2,
  "kernelspec": {
   "name": "python3",
   "display_name": "Python 3.9.2 64-bit",
   "metadata": {
    "interpreter": {
     "hash": "ce7cba3d17e45d86bd6f87f3cdb87f99a0113a22cb64c587135196d236676c6b"
    }
   }
  }
 },
 "nbformat": 4,
 "nbformat_minor": 2,
 "cells": [
  {
   "source": [
    "# Program For Finding Quadratic Roots of the Equation."
   ],
   "cell_type": "markdown",
   "metadata": {}
  },
  {
   "source": [
    "## As you children must have read in school or colleges.\n",
    "## ax^2 + bx + c = 0\n",
    "## This is standard form of quadratic equation.\n"
   ],
   "cell_type": "markdown",
   "metadata": {}
  },
  {
   "source": [
    "### So first we have to calculate Discriminant.\n",
    "#### d = (b^2) - (4*a*c)\n",
    "### Here a,b and c are co-efficients and a cannot be = 0. "
   ],
   "cell_type": "markdown",
   "metadata": {}
  },
  {
   "cell_type": "code",
   "execution_count": 3,
   "metadata": {},
   "outputs": [],
   "source": [
    "# co-efficients\n",
    "a = 1\n",
    "b = 5\n",
    "c = 6"
   ]
  },
  {
   "cell_type": "code",
   "execution_count": 4,
   "metadata": {},
   "outputs": [
    {
     "output_type": "stream",
     "name": "stdout",
     "text": [
      "Quadratic Equation is:\n(-3+0j)\n(-2+0j)\n"
     ]
    }
   ],
   "source": [
    "####### Here is the solution of quadratic equation.\n",
    "import cmath # This is helpful complex mathematical Computations.\n",
    "d = (b**2) - (4*a*c) # Discriminant\n",
    "# Findings for both Positive one and Negative One.\n",
    "root1 = (-b-cmath.sqrt(d))/(2*a)\n",
    "root2 = (-b+cmath.sqrt(d))/(2*a)\n",
    "\n",
    "print('Quadratic Equation is:')\n",
    "print(root1)\n",
    "print(root2)\n"
   ]
  },
  {
   "cell_type": "code",
   "execution_count": null,
   "metadata": {},
   "outputs": [],
   "source": []
  }
 ]
}