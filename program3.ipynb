{
 "metadata": {
  "language_info": {
   "codemirror_mode": {
    "name": "ipython",
    "version": 3
   },
   "file_extension": ".py",
   "mimetype": "text/x-python",
   "name": "python",
   "nbconvert_exporter": "python",
   "pygments_lexer": "ipython3",
   "version": "3.8.5-final"
  },
  "orig_nbformat": 2,
  "kernelspec": {
   "name": "python3",
   "display_name": "Python 3.8.5 64-bit (conda)",
   "metadata": {
    "interpreter": {
     "hash": "1780f370efa71b3ee1fb52cec4a635dcd7ccf4d1ccc77d184aacdc131610dd4e"
    }
   }
  }
 },
 "nbformat": 4,
 "nbformat_minor": 2,
 "cells": [
  {
   "source": [
    "# Converting Decimal to Binary, Octal, and Hexadecimal\n",
    "As you already know Decimal systems is most widely used number system. But you also know our computer only binary system. There are three major number system:\n",
    "## Decimal system of base 10 \n",
    "## Binary number system of base 2\n",
    "## Octal number system of base 8\n",
    "## Hexadecimal number system of base 16\n",
    "### A number with the prefix 'Ob' is considered binary. \"Oo\" as octal and \"Ox\" as hexadecimal. For example.. \n",
    "60 = ob11100 = 0o74 = 0x3c"
   ],
   "cell_type": "markdown",
   "metadata": {}
  },
  {
   "cell_type": "code",
   "execution_count": 4,
   "metadata": {},
   "outputs": [
    {
     "output_type": "stream",
     "name": "stdout",
     "text": [
      "The decimal value of 344 is\n0b101011000 In Binary System\n0x158 In Hexadecimal System\n0o530 In Octal System\n"
     ]
    }
   ],
   "source": [
    "# Change this line for a different result\n",
    "dec = 344\n",
    "print(\"The decimal value of\", dec, \"is\")\n",
    "print(bin(dec),'In Binary System')\n",
    "print(hex(dec),'In Hexadecimal System')\n",
    "print(oct(dec),'In Octal System')"
   ]
  },
  {
   "cell_type": "code",
   "execution_count": null,
   "metadata": {},
   "outputs": [],
   "source": []
  }
 ]
}